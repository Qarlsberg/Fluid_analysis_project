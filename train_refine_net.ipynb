{
  "cells": [
    {
      "cell_type": "markdown",
      "metadata": {},
      "source": [
        "# RefineNet Training with Quality Classification\n",
        "This notebook trains a RefineNet model with quality classification and TensorBoard monitoring."
      ]
    },
    {
      "cell_type": "code",
      "metadata": {},
      "source": [
        "# Install required packages\n",
        "!pip install -q torch torchvision tensorboard"
      ]
    },
    {
      "cell_type": "code",
      "metadata": {},
      "source": [
        "# Verify GPU\n",
        "!nvidia-smi"
      ]
    },
    {
      "cell_type": "code",
      "metadata": {},
      "source": [
        "# Mount Google Drive\n",
        "from google.colab import drive\n",
        "drive.mount('/content/drive')\n",
        "\n",
        "# Create project directory\n",
        "!mkdir -p /content/drive/MyDrive/colab/refine_net\n",
        "%cd /content/drive/MyDrive/colab/refine_net"
      ]
    },
    {
      "cell_type": "code",
      "metadata": {},
      "source": [
        "# Install requirements\n",
        "!pip install -r requirements.txt"
      ]
    },
    {
      "cell_type": "code",
      "metadata": {},
      "source": [
        "# Extract project files\n",
        "!unzip -o project_code.zip\n",
        "!unzip -o project_dataset.zip"
      ]
    },
    {
      "cell_type": "code",
      "metadata": {},
      "source": [
        "# Load TensorBoard extension\n",
        "%load_ext tensorboard"
      ]
    },
    {
      "cell_type": "code",
      "metadata": {},
      "source": [
        "# Clear any existing TensorBoard instances\n",
        "!kill -9 $(ps -ef | grep tensorboard | grep -v grep | awk '{print $2}') 2>/dev/null || true\n",
        "\n",
        "# Start TensorBoard\n",
        "%tensorboard --logdir logs"
      ]
    },
    {
      "cell_type": "code",
      "metadata": {},
      "source": [
        "# Configure PyTorch\n",
        "import torch\n",
        "print(f'PyTorch version: {torch.__version__}')\n",
        "print(f'CUDA available: {torch.cuda.is_available()}')\n",
        "if torch.cuda.is_available():\n",
        "    print(f'CUDA device: {torch.cuda.get_device_name(0)}')\n",
        "    # Enable TF32 for better performance on Ampere GPUs\n",
        "    if torch.cuda.get_device_capability()[0] >= 8:\n",
        "        torch.backends.cuda.matmul.allow_tf32 = True\n",
        "        torch.backends.cudnn.allow_tf32 = True\n",
        "        print('TF32 enabled for Ampere+ GPUs')"
      ]
    },
    {
      "cell_type": "code",
      "metadata": {},
      "source": [
        "# Start training or validation\n",
        "!python src/train_model.py"
      ]
    },
    {
      "cell_type": "markdown",
      "metadata": {},
      "source": [
        "## TensorBoard Metrics\n",
        "\n",
        "The training progress can be monitored in real-time through TensorBoard above. The following metrics are tracked:\n",
        "\n",
        "- Loss (training and validation)\n",
        "- Quality classification metrics (accuracy, precision, recall, F1)\n",
        "- Segmentation IoU scores\n",
        "- Learning rate\n",
        "- GPU memory usage\n",
        "- Training time statistics\n",
        "\n",
        "You can also visualize:\n",
        "- Model architecture graph\n",
        "- Input images\n",
        "- Predicted vs ground truth masks"
      ]
    }
  ],
  "metadata": {
    "accelerator": "GPU",
    "colab": {
      "gpuType": "T4"
    }
  },
  "nbformat": 4,
  "nbformat_minor": 0
}